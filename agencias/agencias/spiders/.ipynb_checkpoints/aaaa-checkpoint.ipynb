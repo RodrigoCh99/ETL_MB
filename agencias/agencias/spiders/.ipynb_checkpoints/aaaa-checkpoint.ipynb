{
 "cells": [
  {
   "cell_type": "code",
   "execution_count": 1,
   "id": "d3c21c12-268d-44bd-8cfa-72f504f7b6dc",
   "metadata": {},
   "outputs": [],
   "source": [
    "import numpy as np\n",
    "import pandas as pd "
   ]
  },
  {
   "cell_type": "code",
   "execution_count": 2,
   "id": "d0a6b2c9-94ba-442a-bfc0-7d03bf409b5a",
   "metadata": {},
   "outputs": [],
   "source": [
    "df = pd.read_csv('brasil.csv', sep=';')"
   ]
  },
  {
   "cell_type": "code",
   "execution_count": 3,
   "id": "43a4e8a6-a109-4208-bb53-6fc8c113b39a",
   "metadata": {},
   "outputs": [],
   "source": [
    "df['ESTADO'] = df.LINK.apply(lambda x: x.split('/')[4])\n",
    "df['CIDADE'] = df.LINK.apply(lambda x: x.split('/')[5])\n",
    "df['BAIRRO'] = df.LINK.apply(lambda x: x.split('/')[6])\n",
    "df['BANCO'] = df.LINK.apply(lambda x: x.split('/')[7])\n",
    "df['AGENCIA'] = df.LINK.apply(lambda x: x.split('/')[8])"
   ]
  },
  {
   "cell_type": "code",
   "execution_count": 5,
   "id": "fd716a6e-d1de-4d97-9cba-b6f5610cc813",
   "metadata": {},
   "outputs": [
    {
     "data": {
      "text/plain": [
       "(7511, 7)"
      ]
     },
     "execution_count": 5,
     "metadata": {},
     "output_type": "execute_result"
    }
   ],
   "source": [
    "df.shape"
   ]
  },
  {
   "cell_type": "code",
   "execution_count": 8,
   "id": "fa90c1aa-b943-44ac-9079-dc50794475d6",
   "metadata": {},
   "outputs": [],
   "source": [
    "df_sp = df[df['CIDADE'] == 'sao-paulo']"
   ]
  },
  {
   "cell_type": "code",
   "execution_count": 10,
   "id": "b8c0df48-3766-41cf-bdf8-8fc48cbb45ed",
   "metadata": {},
   "outputs": [
    {
     "data": {
      "text/plain": [
       "(2798, 7)"
      ]
     },
     "execution_count": 10,
     "metadata": {},
     "output_type": "execute_result"
    }
   ],
   "source": [
    "df_sp.shape"
   ]
  },
  {
   "cell_type": "code",
   "execution_count": 11,
   "id": "3952dffb-63ea-4b83-9f5d-44fc7f93426d",
   "metadata": {},
   "outputs": [
    {
     "data": {
      "text/html": [
       "<div>\n",
       "<style scoped>\n",
       "    .dataframe tbody tr th:only-of-type {\n",
       "        vertical-align: middle;\n",
       "    }\n",
       "\n",
       "    .dataframe tbody tr th {\n",
       "        vertical-align: top;\n",
       "    }\n",
       "\n",
       "    .dataframe thead th {\n",
       "        text-align: right;\n",
       "    }\n",
       "</style>\n",
       "<table border=\"1\" class=\"dataframe\">\n",
       "  <thead>\n",
       "    <tr style=\"text-align: right;\">\n",
       "      <th></th>\n",
       "      <th>LINK</th>\n",
       "      <th>NOME</th>\n",
       "      <th>ESTADO</th>\n",
       "      <th>CIDADE</th>\n",
       "      <th>BAIRRO</th>\n",
       "      <th>BANCO</th>\n",
       "      <th>AGENCIA</th>\n",
       "    </tr>\n",
       "  </thead>\n",
       "  <tbody>\n",
       "    <tr>\n",
       "      <th>1346</th>\n",
       "      <td>https://agenciasbanco.com.br/agencias/sp/sao-p...</td>\n",
       "      <td>Consegtur Corretora Agência 0000</td>\n",
       "      <td>sp</td>\n",
       "      <td>sao-paulo</td>\n",
       "      <td>jardim-paulista</td>\n",
       "      <td>consegtur-corretora</td>\n",
       "      <td>0000</td>\n",
       "    </tr>\n",
       "    <tr>\n",
       "      <th>1537</th>\n",
       "      <td>https://agenciasbanco.com.br/agencias/sp/sao-p...</td>\n",
       "      <td>Banco do Brasil Agência 3324</td>\n",
       "      <td>sp</td>\n",
       "      <td>sao-paulo</td>\n",
       "      <td>sta-efigenia</td>\n",
       "      <td>banco-do-brasil</td>\n",
       "      <td>3324</td>\n",
       "    </tr>\n",
       "    <tr>\n",
       "      <th>1543</th>\n",
       "      <td>https://agenciasbanco.com.br/agencias/sp/sao-p...</td>\n",
       "      <td>Itaú Unibanco Agência 0180</td>\n",
       "      <td>sp</td>\n",
       "      <td>sao-paulo</td>\n",
       "      <td>sta-efigenia</td>\n",
       "      <td>itau-unibanco</td>\n",
       "      <td>0180</td>\n",
       "    </tr>\n",
       "    <tr>\n",
       "      <th>1587</th>\n",
       "      <td>https://agenciasbanco.com.br/agencias/sp/sao-p...</td>\n",
       "      <td>Banco Santander Agência 1645</td>\n",
       "      <td>sp</td>\n",
       "      <td>sao-paulo</td>\n",
       "      <td>pq-da-mooca</td>\n",
       "      <td>banco-santander</td>\n",
       "      <td>1645</td>\n",
       "    </tr>\n",
       "    <tr>\n",
       "      <th>1590</th>\n",
       "      <td>https://agenciasbanco.com.br/agencias/sp/sao-p...</td>\n",
       "      <td>Banco do Brasil Agência 1511</td>\n",
       "      <td>sp</td>\n",
       "      <td>sao-paulo</td>\n",
       "      <td>pq-da-mooca</td>\n",
       "      <td>banco-do-brasil</td>\n",
       "      <td>1511</td>\n",
       "    </tr>\n",
       "    <tr>\n",
       "      <th>...</th>\n",
       "      <td>...</td>\n",
       "      <td>...</td>\n",
       "      <td>...</td>\n",
       "      <td>...</td>\n",
       "      <td>...</td>\n",
       "      <td>...</td>\n",
       "      <td>...</td>\n",
       "    </tr>\n",
       "    <tr>\n",
       "      <th>3113</th>\n",
       "      <td>https://agenciasbanco.com.br/agencias/sp/sao-p...</td>\n",
       "      <td>Novo Mundo Agência 0000</td>\n",
       "      <td>sp</td>\n",
       "      <td>sao-paulo</td>\n",
       "      <td>itaim-bibi</td>\n",
       "      <td>novo-mundo-corretora</td>\n",
       "      <td>0000</td>\n",
       "    </tr>\n",
       "    <tr>\n",
       "      <th>3121</th>\n",
       "      <td>https://agenciasbanco.com.br/agencias/sp/sao-p...</td>\n",
       "      <td>Planner Corretora Agência 0000</td>\n",
       "      <td>sp</td>\n",
       "      <td>sao-paulo</td>\n",
       "      <td>itaim-bibi</td>\n",
       "      <td>planner-corretora</td>\n",
       "      <td>0000</td>\n",
       "    </tr>\n",
       "    <tr>\n",
       "      <th>3521</th>\n",
       "      <td>https://agenciasbanco.com.br/agencias/sp/sao-p...</td>\n",
       "      <td>Levycam Corretora Agência 0000</td>\n",
       "      <td>sp</td>\n",
       "      <td>sao-paulo</td>\n",
       "      <td>centro</td>\n",
       "      <td>levycam-corretora</td>\n",
       "      <td>0000</td>\n",
       "    </tr>\n",
       "    <tr>\n",
       "      <th>3567</th>\n",
       "      <td>https://agenciasbanco.com.br/agencias/sp/sao-p...</td>\n",
       "      <td>Banco Citibank Agência 0080</td>\n",
       "      <td>sp</td>\n",
       "      <td>sao-paulo</td>\n",
       "      <td>cerqueira-cesar</td>\n",
       "      <td>banco-citibank</td>\n",
       "      <td>0080</td>\n",
       "    </tr>\n",
       "    <tr>\n",
       "      <th>3579</th>\n",
       "      <td>https://agenciasbanco.com.br/agencias/sp/sao-p...</td>\n",
       "      <td>Banco Citibank Agência 0056</td>\n",
       "      <td>sp</td>\n",
       "      <td>sao-paulo</td>\n",
       "      <td>cerqueira-cesar</td>\n",
       "      <td>banco-citibank</td>\n",
       "      <td>0056</td>\n",
       "    </tr>\n",
       "  </tbody>\n",
       "</table>\n",
       "<p>74 rows × 7 columns</p>\n",
       "</div>"
      ],
      "text/plain": [
       "                                                   LINK  \\\n",
       "1346  https://agenciasbanco.com.br/agencias/sp/sao-p...   \n",
       "1537  https://agenciasbanco.com.br/agencias/sp/sao-p...   \n",
       "1543  https://agenciasbanco.com.br/agencias/sp/sao-p...   \n",
       "1587  https://agenciasbanco.com.br/agencias/sp/sao-p...   \n",
       "1590  https://agenciasbanco.com.br/agencias/sp/sao-p...   \n",
       "...                                                 ...   \n",
       "3113  https://agenciasbanco.com.br/agencias/sp/sao-p...   \n",
       "3121  https://agenciasbanco.com.br/agencias/sp/sao-p...   \n",
       "3521  https://agenciasbanco.com.br/agencias/sp/sao-p...   \n",
       "3567  https://agenciasbanco.com.br/agencias/sp/sao-p...   \n",
       "3579  https://agenciasbanco.com.br/agencias/sp/sao-p...   \n",
       "\n",
       "                                   NOME ESTADO     CIDADE           BAIRRO  \\\n",
       "1346  Consegtur Corretora Agência 0000      sp  sao-paulo  jardim-paulista   \n",
       "1537      Banco do Brasil Agência 3324      sp  sao-paulo     sta-efigenia   \n",
       "1543        Itaú Unibanco Agência 0180      sp  sao-paulo     sta-efigenia   \n",
       "1587      Banco Santander Agência 1645      sp  sao-paulo      pq-da-mooca   \n",
       "1590      Banco do Brasil Agência 1511      sp  sao-paulo      pq-da-mooca   \n",
       "...                                 ...    ...        ...              ...   \n",
       "3113           Novo Mundo Agência 0000      sp  sao-paulo       itaim-bibi   \n",
       "3121    Planner Corretora Agência 0000      sp  sao-paulo       itaim-bibi   \n",
       "3521    Levycam Corretora Agência 0000      sp  sao-paulo           centro   \n",
       "3567       Banco Citibank Agência 0080      sp  sao-paulo  cerqueira-cesar   \n",
       "3579       Banco Citibank Agência 0056      sp  sao-paulo  cerqueira-cesar   \n",
       "\n",
       "                     BANCO AGENCIA  \n",
       "1346   consegtur-corretora    0000  \n",
       "1537       banco-do-brasil    3324  \n",
       "1543         itau-unibanco    0180  \n",
       "1587       banco-santander    1645  \n",
       "1590       banco-do-brasil    1511  \n",
       "...                    ...     ...  \n",
       "3113  novo-mundo-corretora    0000  \n",
       "3121     planner-corretora    0000  \n",
       "3521     levycam-corretora    0000  \n",
       "3567        banco-citibank    0080  \n",
       "3579        banco-citibank    0056  \n",
       "\n",
       "[74 rows x 7 columns]"
      ]
     },
     "execution_count": 11,
     "metadata": {},
     "output_type": "execute_result"
    }
   ],
   "source": [
    "df_sp[df_sp.duplicated()]"
   ]
  },
  {
   "cell_type": "code",
   "execution_count": 12,
   "id": "c57321de-abd9-4d63-8fd5-df2150b0a925",
   "metadata": {},
   "outputs": [
    {
     "data": {
      "text/plain": [
       "2724"
      ]
     },
     "execution_count": 12,
     "metadata": {},
     "output_type": "execute_result"
    }
   ],
   "source": [
    "2798-74"
   ]
  },
  {
   "cell_type": "code",
   "execution_count": null,
   "id": "a5050035-b1d6-47db-8a30-3d25522db9ba",
   "metadata": {},
   "outputs": [],
   "source": []
  }
 ],
 "metadata": {
  "kernelspec": {
   "display_name": "Python 3 (ipykernel)",
   "language": "python",
   "name": "python3"
  },
  "language_info": {
   "codemirror_mode": {
    "name": "ipython",
    "version": 3
   },
   "file_extension": ".py",
   "mimetype": "text/x-python",
   "name": "python",
   "nbconvert_exporter": "python",
   "pygments_lexer": "ipython3",
   "version": "3.12.2"
  }
 },
 "nbformat": 4,
 "nbformat_minor": 5
}
