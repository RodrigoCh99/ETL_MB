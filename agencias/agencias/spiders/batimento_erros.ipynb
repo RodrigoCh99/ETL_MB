{
 "cells": [
  {
   "cell_type": "code",
   "execution_count": 1,
   "id": "8adeb925-6b27-414b-b6f8-109dc0d49cac",
   "metadata": {
    "scrolled": true
   },
   "outputs": [],
   "source": [
    "import numpy as np\n",
    "import pandas as pd "
   ]
  },
  {
   "cell_type": "code",
   "execution_count": 3,
   "id": "40d9e8a1-7976-484d-8c3a-3da86147c0a9",
   "metadata": {},
   "outputs": [],
   "source": [
    "df = pd.read_csv('batimento.csv')"
   ]
  },
  {
   "cell_type": "code",
   "execution_count": 4,
   "id": "852aa0dc-3e9a-4a5a-bfc4-ed50bbd27926",
   "metadata": {},
   "outputs": [
    {
     "data": {
      "text/html": [
       "<div>\n",
       "<style scoped>\n",
       "    .dataframe tbody tr th:only-of-type {\n",
       "        vertical-align: middle;\n",
       "    }\n",
       "\n",
       "    .dataframe tbody tr th {\n",
       "        vertical-align: top;\n",
       "    }\n",
       "\n",
       "    .dataframe thead th {\n",
       "        text-align: right;\n",
       "    }\n",
       "</style>\n",
       "<table border=\"1\" class=\"dataframe\">\n",
       "  <thead>\n",
       "    <tr style=\"text-align: right;\">\n",
       "      <th></th>\n",
       "      <th>Unnamed: 0</th>\n",
       "      <th>CIDADE</th>\n",
       "      <th>BAIRRO</th>\n",
       "      <th>BANCO</th>\n",
       "      <th>AGENCIA</th>\n",
       "    </tr>\n",
       "  </thead>\n",
       "  <tbody>\n",
       "    <tr>\n",
       "      <th>0</th>\n",
       "      <td>0</td>\n",
       "      <td>acrelandia (1)</td>\n",
       "      <td>centro (1)</td>\n",
       "      <td>banco-do-brasil (1)</td>\n",
       "      <td>BANCO DO BRASIL - AGÊNCIA 4158</td>\n",
       "    </tr>\n",
       "    <tr>\n",
       "      <th>1</th>\n",
       "      <td>1</td>\n",
       "      <td>assis-brasil (2)</td>\n",
       "      <td>centro (2)</td>\n",
       "      <td>banco-do-brasil (1)</td>\n",
       "      <td>BANCO DO BRASIL - AGÊNCIA 4652</td>\n",
       "    </tr>\n",
       "    <tr>\n",
       "      <th>2</th>\n",
       "      <td>2</td>\n",
       "      <td>assis-brasil (2)</td>\n",
       "      <td>centro (2)</td>\n",
       "      <td>caixa-economica-federal (1)</td>\n",
       "      <td>CAIXA - AGÊNCIA 3589</td>\n",
       "    </tr>\n",
       "    <tr>\n",
       "      <th>3</th>\n",
       "      <td>3</td>\n",
       "      <td>brasileia (4)</td>\n",
       "      <td>centro (1)</td>\n",
       "      <td>banco-da-amazonia (1)</td>\n",
       "      <td>BANCO DA AMAZONIA - AGÊNCIA 0012</td>\n",
       "    </tr>\n",
       "    <tr>\n",
       "      <th>4</th>\n",
       "      <td>4</td>\n",
       "      <td>brasileia (4)</td>\n",
       "      <td>ferreira-silva (1)</td>\n",
       "      <td>banco-bradesco (1)</td>\n",
       "      <td>BRADESCO - AGÊNCIA 6159</td>\n",
       "    </tr>\n",
       "    <tr>\n",
       "      <th>...</th>\n",
       "      <td>...</td>\n",
       "      <td>...</td>\n",
       "      <td>...</td>\n",
       "      <td>...</td>\n",
       "      <td>...</td>\n",
       "    </tr>\n",
       "    <tr>\n",
       "      <th>59</th>\n",
       "      <td>59</td>\n",
       "      <td>tarauaca (3)</td>\n",
       "      <td>centro (3)</td>\n",
       "      <td>banco-do-brasil (1)</td>\n",
       "      <td>BANCO DO BRASIL - AGÊNCIA 2713</td>\n",
       "    </tr>\n",
       "    <tr>\n",
       "      <th>60</th>\n",
       "      <td>60</td>\n",
       "      <td>tarauaca (3)</td>\n",
       "      <td>centro (3)</td>\n",
       "      <td>caixa-economica-federal (1)</td>\n",
       "      <td>CAIXA - AGÊNCIA 3339</td>\n",
       "    </tr>\n",
       "    <tr>\n",
       "      <th>61</th>\n",
       "      <td>61</td>\n",
       "      <td>xapuri (3)</td>\n",
       "      <td>centro (3)</td>\n",
       "      <td>banco-bradesco (1)</td>\n",
       "      <td>BRADESCO - AGÊNCIA 6164</td>\n",
       "    </tr>\n",
       "    <tr>\n",
       "      <th>62</th>\n",
       "      <td>62</td>\n",
       "      <td>xapuri (3)</td>\n",
       "      <td>centro (3)</td>\n",
       "      <td>banco-da-amazonia (1)</td>\n",
       "      <td>BANCO DA AMAZONIA - AGÊNCIA 0136</td>\n",
       "    </tr>\n",
       "    <tr>\n",
       "      <th>63</th>\n",
       "      <td>63</td>\n",
       "      <td>xapuri (3)</td>\n",
       "      <td>centro (3)</td>\n",
       "      <td>banco-do-brasil (1)</td>\n",
       "      <td>BANCO DO BRASIL - AGÊNCIA 4520</td>\n",
       "    </tr>\n",
       "  </tbody>\n",
       "</table>\n",
       "<p>64 rows × 5 columns</p>\n",
       "</div>"
      ],
      "text/plain": [
       "    Unnamed: 0            CIDADE              BAIRRO  \\\n",
       "0            0    acrelandia (1)          centro (1)   \n",
       "1            1  assis-brasil (2)          centro (2)   \n",
       "2            2  assis-brasil (2)          centro (2)   \n",
       "3            3     brasileia (4)          centro (1)   \n",
       "4            4     brasileia (4)  ferreira-silva (1)   \n",
       "..         ...               ...                 ...   \n",
       "59          59      tarauaca (3)          centro (3)   \n",
       "60          60      tarauaca (3)          centro (3)   \n",
       "61          61        xapuri (3)          centro (3)   \n",
       "62          62        xapuri (3)          centro (3)   \n",
       "63          63        xapuri (3)          centro (3)   \n",
       "\n",
       "                          BANCO                           AGENCIA  \n",
       "0           banco-do-brasil (1)    BANCO DO BRASIL - AGÊNCIA 4158  \n",
       "1           banco-do-brasil (1)    BANCO DO BRASIL - AGÊNCIA 4652  \n",
       "2   caixa-economica-federal (1)              CAIXA - AGÊNCIA 3589  \n",
       "3         banco-da-amazonia (1)  BANCO DA AMAZONIA - AGÊNCIA 0012  \n",
       "4            banco-bradesco (1)           BRADESCO - AGÊNCIA 6159  \n",
       "..                          ...                               ...  \n",
       "59          banco-do-brasil (1)    BANCO DO BRASIL - AGÊNCIA 2713  \n",
       "60  caixa-economica-federal (1)              CAIXA - AGÊNCIA 3339  \n",
       "61           banco-bradesco (1)           BRADESCO - AGÊNCIA 6164  \n",
       "62        banco-da-amazonia (1)  BANCO DA AMAZONIA - AGÊNCIA 0136  \n",
       "63          banco-do-brasil (1)    BANCO DO BRASIL - AGÊNCIA 4520  \n",
       "\n",
       "[64 rows x 5 columns]"
      ]
     },
     "execution_count": 4,
     "metadata": {},
     "output_type": "execute_result"
    }
   ],
   "source": [
    "df"
   ]
  },
  {
   "cell_type": "code",
   "execution_count": 38,
   "id": "18533d83-4689-4859-978d-e17bb8faf861",
   "metadata": {},
   "outputs": [],
   "source": [
    "lista = [1,2,3,4]"
   ]
  },
  {
   "cell_type": "code",
   "execution_count": 39,
   "id": "90c7c869-c4a1-4c31-9312-2f2b6c385d07",
   "metadata": {},
   "outputs": [
    {
     "data": {
      "text/plain": [
       "[3, 4]"
      ]
     },
     "execution_count": 39,
     "metadata": {},
     "output_type": "execute_result"
    }
   ],
   "source": [
    "lista[-2:]"
   ]
  },
  {
   "cell_type": "code",
   "execution_count": 40,
   "id": "4ed55085-9cd5-4fd4-9e55-1eda6f5008ea",
   "metadata": {},
   "outputs": [
    {
     "data": {
      "text/plain": [
       "'acrelandia'"
      ]
     },
     "execution_count": 40,
     "metadata": {},
     "output_type": "execute_result"
    }
   ],
   "source": [
    "olha = '/agencias/ac/acrelandia/'\n",
    "olha.split('/')[3]"
   ]
  },
  {
   "cell_type": "code",
   "execution_count": null,
   "id": "0e878192-074c-4847-974f-7d11c4bbb0c5",
   "metadata": {},
   "outputs": [],
   "source": []
  }
 ],
 "metadata": {
  "kernelspec": {
   "display_name": "Python 3 (ipykernel)",
   "language": "python",
   "name": "python3"
  },
  "language_info": {
   "codemirror_mode": {
    "name": "ipython",
    "version": 3
   },
   "file_extension": ".py",
   "mimetype": "text/x-python",
   "name": "python",
   "nbconvert_exporter": "python",
   "pygments_lexer": "ipython3",
   "version": "3.12.3"
  }
 },
 "nbformat": 4,
 "nbformat_minor": 5
}
