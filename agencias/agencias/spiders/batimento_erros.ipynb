{
 "cells": [
  {
   "cell_type": "code",
   "execution_count": 1,
   "id": "8adeb925-6b27-414b-b6f8-109dc0d49cac",
   "metadata": {},
   "outputs": [],
   "source": [
    "import numpy as np\n",
    "import pandas as pd "
   ]
  },
  {
   "cell_type": "code",
   "execution_count": 42,
   "id": "40d9e8a1-7976-484d-8c3a-3da86147c0a9",
   "metadata": {},
   "outputs": [],
   "source": [
    "df = pd.read_csv('batimento.csv')"
   ]
  },
  {
   "cell_type": "code",
   "execution_count": 44,
   "id": "852aa0dc-3e9a-4a5a-bfc4-ed50bbd27926",
   "metadata": {},
   "outputs": [
    {
     "data": {
      "text/html": [
       "<div>\n",
       "<style scoped>\n",
       "    .dataframe tbody tr th:only-of-type {\n",
       "        vertical-align: middle;\n",
       "    }\n",
       "\n",
       "    .dataframe tbody tr th {\n",
       "        vertical-align: top;\n",
       "    }\n",
       "\n",
       "    .dataframe thead th {\n",
       "        text-align: right;\n",
       "    }\n",
       "</style>\n",
       "<table border=\"1\" class=\"dataframe\">\n",
       "  <thead>\n",
       "    <tr style=\"text-align: right;\">\n",
       "      <th></th>\n",
       "      <th>Unnamed: 0</th>\n",
       "      <th>CIDADE</th>\n",
       "      <th>BAIRRO</th>\n",
       "      <th>BANCO</th>\n",
       "      <th>AGENCIA</th>\n",
       "    </tr>\n",
       "  </thead>\n",
       "  <tbody>\n",
       "    <tr>\n",
       "      <th>0</th>\n",
       "      <td>0</td>\n",
       "      <td>adamantina (8)</td>\n",
       "      <td>centro (8)</td>\n",
       "      <td>banco-bradesco (2)</td>\n",
       "      <td>BRADESCO - AGÊNCIA 0056</td>\n",
       "    </tr>\n",
       "    <tr>\n",
       "      <th>1</th>\n",
       "      <td>1</td>\n",
       "      <td>adamantina (8)</td>\n",
       "      <td>centro (8)</td>\n",
       "      <td>banco-bradesco (2)</td>\n",
       "      <td>BRADESCO - AGÊNCIA 3525</td>\n",
       "    </tr>\n",
       "    <tr>\n",
       "      <th>2</th>\n",
       "      <td>2</td>\n",
       "      <td>adamantina (8)</td>\n",
       "      <td>centro (8)</td>\n",
       "      <td>banco-do-brasil (2)</td>\n",
       "      <td>BANCO DO BRASIL - AGÊNCIA 0470</td>\n",
       "    </tr>\n",
       "    <tr>\n",
       "      <th>3</th>\n",
       "      <td>3</td>\n",
       "      <td>adamantina (8)</td>\n",
       "      <td>centro (8)</td>\n",
       "      <td>banco-do-brasil (2)</td>\n",
       "      <td>BANCO DO BRASIL - AGÊNCIA 6733</td>\n",
       "    </tr>\n",
       "    <tr>\n",
       "      <th>4</th>\n",
       "      <td>4</td>\n",
       "      <td>adamantina (8)</td>\n",
       "      <td>centro (8)</td>\n",
       "      <td>banco-santander (1)</td>\n",
       "      <td>SANTANDER - AGÊNCIA 0073</td>\n",
       "    </tr>\n",
       "    <tr>\n",
       "      <th>...</th>\n",
       "      <td>...</td>\n",
       "      <td>...</td>\n",
       "      <td>...</td>\n",
       "      <td>...</td>\n",
       "      <td>...</td>\n",
       "    </tr>\n",
       "    <tr>\n",
       "      <th>23521</th>\n",
       "      <td>23521</td>\n",
       "      <td>virgolandia (1)</td>\n",
       "      <td>centro (1)</td>\n",
       "      <td>banco-do-brasil (1)</td>\n",
       "      <td>BANCO DO BRASIL - AGÊNCIA 4074</td>\n",
       "    </tr>\n",
       "    <tr>\n",
       "      <th>23522</th>\n",
       "      <td>23522</td>\n",
       "      <td>visconde-do-rio-branco (4)</td>\n",
       "      <td>centro (4)</td>\n",
       "      <td>banco-bradesco (1)</td>\n",
       "      <td>BRADESCO - AGÊNCIA 2527</td>\n",
       "    </tr>\n",
       "    <tr>\n",
       "      <th>23523</th>\n",
       "      <td>23523</td>\n",
       "      <td>visconde-do-rio-branco (4)</td>\n",
       "      <td>centro (4)</td>\n",
       "      <td>banco-do-brasil (1)</td>\n",
       "      <td>BANCO DO BRASIL - AGÊNCIA 0881</td>\n",
       "    </tr>\n",
       "    <tr>\n",
       "      <th>23524</th>\n",
       "      <td>23524</td>\n",
       "      <td>visconde-do-rio-branco (4)</td>\n",
       "      <td>centro (4)</td>\n",
       "      <td>caixa-economica-federal (1)</td>\n",
       "      <td>CAIXA - AGÊNCIA 0166</td>\n",
       "    </tr>\n",
       "    <tr>\n",
       "      <th>23525</th>\n",
       "      <td>23525</td>\n",
       "      <td>visconde-do-rio-branco (4)</td>\n",
       "      <td>centro (4)</td>\n",
       "      <td>itau-unibanco (1)</td>\n",
       "      <td>ITAÚ - AGÊNCIA 3107</td>\n",
       "    </tr>\n",
       "  </tbody>\n",
       "</table>\n",
       "<p>23526 rows × 5 columns</p>\n",
       "</div>"
      ],
      "text/plain": [
       "       Unnamed: 0                      CIDADE      BAIRRO  \\\n",
       "0               0              adamantina (8)  centro (8)   \n",
       "1               1              adamantina (8)  centro (8)   \n",
       "2               2              adamantina (8)  centro (8)   \n",
       "3               3              adamantina (8)  centro (8)   \n",
       "4               4              adamantina (8)  centro (8)   \n",
       "...           ...                         ...         ...   \n",
       "23521       23521             virgolandia (1)  centro (1)   \n",
       "23522       23522  visconde-do-rio-branco (4)  centro (4)   \n",
       "23523       23523  visconde-do-rio-branco (4)  centro (4)   \n",
       "23524       23524  visconde-do-rio-branco (4)  centro (4)   \n",
       "23525       23525  visconde-do-rio-branco (4)  centro (4)   \n",
       "\n",
       "                             BANCO                         AGENCIA  \n",
       "0               banco-bradesco (2)         BRADESCO - AGÊNCIA 0056  \n",
       "1               banco-bradesco (2)         BRADESCO - AGÊNCIA 3525  \n",
       "2              banco-do-brasil (2)  BANCO DO BRASIL - AGÊNCIA 0470  \n",
       "3              banco-do-brasil (2)  BANCO DO BRASIL - AGÊNCIA 6733  \n",
       "4              banco-santander (1)        SANTANDER - AGÊNCIA 0073  \n",
       "...                            ...                             ...  \n",
       "23521          banco-do-brasil (1)  BANCO DO BRASIL - AGÊNCIA 4074  \n",
       "23522           banco-bradesco (1)         BRADESCO - AGÊNCIA 2527  \n",
       "23523          banco-do-brasil (1)  BANCO DO BRASIL - AGÊNCIA 0881  \n",
       "23524  caixa-economica-federal (1)            CAIXA - AGÊNCIA 0166  \n",
       "23525            itau-unibanco (1)             ITAÚ - AGÊNCIA 3107  \n",
       "\n",
       "[23526 rows x 5 columns]"
      ]
     },
     "execution_count": 44,
     "metadata": {},
     "output_type": "execute_result"
    }
   ],
   "source": [
    "df"
   ]
  },
  {
   "cell_type": "code",
   "execution_count": 38,
   "id": "18533d83-4689-4859-978d-e17bb8faf861",
   "metadata": {},
   "outputs": [],
   "source": [
    "lista = [1,2,3,4]"
   ]
  },
  {
   "cell_type": "code",
   "execution_count": 39,
   "id": "90c7c869-c4a1-4c31-9312-2f2b6c385d07",
   "metadata": {},
   "outputs": [
    {
     "data": {
      "text/plain": [
       "[3, 4]"
      ]
     },
     "execution_count": 39,
     "metadata": {},
     "output_type": "execute_result"
    }
   ],
   "source": [
    "lista[-2:]"
   ]
  },
  {
   "cell_type": "code",
   "execution_count": 40,
   "id": "4ed55085-9cd5-4fd4-9e55-1eda6f5008ea",
   "metadata": {},
   "outputs": [
    {
     "data": {
      "text/plain": [
       "'acrelandia'"
      ]
     },
     "execution_count": 40,
     "metadata": {},
     "output_type": "execute_result"
    }
   ],
   "source": [
    "olha = '/agencias/ac/acrelandia/'\n",
    "olha.split('/')[3]"
   ]
  },
  {
   "cell_type": "code",
   "execution_count": null,
   "id": "0e878192-074c-4847-974f-7d11c4bbb0c5",
   "metadata": {},
   "outputs": [],
   "source": []
  }
 ],
 "metadata": {
  "kernelspec": {
   "display_name": "Python 3 (ipykernel)",
   "language": "python",
   "name": "python3"
  },
  "language_info": {
   "codemirror_mode": {
    "name": "ipython",
    "version": 3
   },
   "file_extension": ".py",
   "mimetype": "text/x-python",
   "name": "python",
   "nbconvert_exporter": "python",
   "pygments_lexer": "ipython3",
   "version": "3.12.2"
  }
 },
 "nbformat": 4,
 "nbformat_minor": 5
}
