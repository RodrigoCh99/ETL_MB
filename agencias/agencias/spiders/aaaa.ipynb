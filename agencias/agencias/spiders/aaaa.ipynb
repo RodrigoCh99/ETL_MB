{
 "cells": [
  {
   "cell_type": "code",
   "execution_count": 1,
   "id": "d3c21c12-268d-44bd-8cfa-72f504f7b6dc",
   "metadata": {},
   "outputs": [],
   "source": [
    "import numpy as np\n",
    "import pandas as pd "
   ]
  },
  {
   "cell_type": "code",
   "execution_count": 2,
   "id": "d0a6b2c9-94ba-442a-bfc0-7d03bf409b5a",
   "metadata": {},
   "outputs": [],
   "source": [
    "df = pd.read_csv('brasil.csv', sep=';')"
   ]
  },
  {
   "cell_type": "code",
   "execution_count": 3,
   "id": "43a4e8a6-a109-4208-bb53-6fc8c113b39a",
   "metadata": {},
   "outputs": [],
   "source": [
    "df['ESTADO'] = df.LINK.apply(lambda x: x.split('/')[4])\n",
    "df['CIDADE'] = df.LINK.apply(lambda x: x.split('/')[5])\n",
    "df['BAIRRO'] = df.LINK.apply(lambda x: x.split('/')[6])\n",
    "df['BANCO'] = df.LINK.apply(lambda x: x.split('/')[7])\n",
    "df['AGENCIA'] = df.LINK.apply(lambda x: x.split('/')[8])"
   ]
  },
  {
   "cell_type": "code",
   "execution_count": 5,
   "id": "fd716a6e-d1de-4d97-9cba-b6f5610cc813",
   "metadata": {},
   "outputs": [
    {
     "data": {
      "text/plain": [
       "(7511, 7)"
      ]
     },
     "execution_count": 5,
     "metadata": {},
     "output_type": "execute_result"
    }
   ],
   "source": [
    "df.shape"
   ]
  },
  {
   "cell_type": "code",
   "execution_count": 8,
   "id": "fa90c1aa-b943-44ac-9079-dc50794475d6",
   "metadata": {},
   "outputs": [],
   "source": [
    "df_sp = df[df['CIDADE'] == 'sao-paulo']"
   ]
  },
  {
   "cell_type": "code",
   "execution_count": 10,
   "id": "b8c0df48-3766-41cf-bdf8-8fc48cbb45ed",
   "metadata": {},
   "outputs": [
    {
     "data": {
      "text/plain": [
       "(2798, 7)"
      ]
     },
     "execution_count": 10,
     "metadata": {},
     "output_type": "execute_result"
    }
   ],
   "source": [
    "df_sp.shape"
   ]
  },
  {
   "cell_type": "code",
   "execution_count": 13,
   "id": "3952dffb-63ea-4b83-9f5d-44fc7f93426d",
   "metadata": {},
   "outputs": [],
   "source": [
    "dupli_sp = df_sp[df_sp.duplicated()]"
   ]
  },
  {
   "cell_type": "code",
   "execution_count": 16,
   "id": "c57321de-abd9-4d63-8fd5-df2150b0a925",
   "metadata": {},
   "outputs": [],
   "source": [
    "dupli_sp = dupli_sp.drop(['LINK', 'NOME', 'ESTADO'], axis=1)"
   ]
  },
  {
   "cell_type": "code",
   "execution_count": 19,
   "id": "a5050035-b1d6-47db-8a30-3d25522db9ba",
   "metadata": {},
   "outputs": [
    {
     "data": {
      "text/html": [
       "<div>\n",
       "<style scoped>\n",
       "    .dataframe tbody tr th:only-of-type {\n",
       "        vertical-align: middle;\n",
       "    }\n",
       "\n",
       "    .dataframe tbody tr th {\n",
       "        vertical-align: top;\n",
       "    }\n",
       "\n",
       "    .dataframe thead th {\n",
       "        text-align: right;\n",
       "    }\n",
       "</style>\n",
       "<table border=\"1\" class=\"dataframe\">\n",
       "  <thead>\n",
       "    <tr style=\"text-align: right;\">\n",
       "      <th></th>\n",
       "      <th></th>\n",
       "      <th></th>\n",
       "      <th>AGENCIA</th>\n",
       "    </tr>\n",
       "    <tr>\n",
       "      <th>CIDADE</th>\n",
       "      <th>BAIRRO</th>\n",
       "      <th>BANCO</th>\n",
       "      <th></th>\n",
       "    </tr>\n",
       "  </thead>\n",
       "  <tbody>\n",
       "    <tr>\n",
       "      <th rowspan=\"41\" valign=\"top\">sao-paulo</th>\n",
       "      <th rowspan=\"2\" valign=\"top\">b-vista</th>\n",
       "      <th>banco-do-brasil</th>\n",
       "      <td>5</td>\n",
       "    </tr>\n",
       "    <tr>\n",
       "      <th>itau-unibanco</th>\n",
       "      <td>2</td>\n",
       "    </tr>\n",
       "    <tr>\n",
       "      <th>centro</th>\n",
       "      <th>levycam-corretora</th>\n",
       "      <td>1</td>\n",
       "    </tr>\n",
       "    <tr>\n",
       "      <th>cerqueira-cesar</th>\n",
       "      <th>banco-citibank</th>\n",
       "      <td>2</td>\n",
       "    </tr>\n",
       "    <tr>\n",
       "      <th rowspan=\"3\" valign=\"top\">ch-santo-antonio</th>\n",
       "      <th>deutsche-bank-corretora</th>\n",
       "      <td>1</td>\n",
       "    </tr>\n",
       "    <tr>\n",
       "      <th>itau-unibanco</th>\n",
       "      <td>1</td>\n",
       "    </tr>\n",
       "    <tr>\n",
       "      <th>societe-generale-corretora</th>\n",
       "      <td>1</td>\n",
       "    </tr>\n",
       "    <tr>\n",
       "      <th rowspan=\"2\" valign=\"top\">itaim-bibi</th>\n",
       "      <th>novo-mundo-corretora</th>\n",
       "      <td>1</td>\n",
       "    </tr>\n",
       "    <tr>\n",
       "      <th>planner-corretora</th>\n",
       "      <td>1</td>\n",
       "    </tr>\n",
       "    <tr>\n",
       "      <th>jardim-paulista</th>\n",
       "      <th>consegtur-corretora</th>\n",
       "      <td>1</td>\n",
       "    </tr>\n",
       "    <tr>\n",
       "      <th rowspan=\"4\" valign=\"top\">jd-america</th>\n",
       "      <th>banco-do-brasil</th>\n",
       "      <td>5</td>\n",
       "    </tr>\n",
       "    <tr>\n",
       "      <th>banco-santander</th>\n",
       "      <td>1</td>\n",
       "    </tr>\n",
       "    <tr>\n",
       "      <th>caixa-economica-federal</th>\n",
       "      <td>1</td>\n",
       "    </tr>\n",
       "    <tr>\n",
       "      <th>itau-unibanco</th>\n",
       "      <td>1</td>\n",
       "    </tr>\n",
       "    <tr>\n",
       "      <th rowspan=\"3\" valign=\"top\">jd-aricanduva</th>\n",
       "      <th>banco-bradesco</th>\n",
       "      <td>1</td>\n",
       "    </tr>\n",
       "    <tr>\n",
       "      <th>banco-do-brasil</th>\n",
       "      <td>2</td>\n",
       "    </tr>\n",
       "    <tr>\n",
       "      <th>banco-santander</th>\n",
       "      <td>2</td>\n",
       "    </tr>\n",
       "    <tr>\n",
       "      <th rowspan=\"2\" valign=\"top\">jd-leonor</th>\n",
       "      <th>banco-do-brasil</th>\n",
       "      <td>1</td>\n",
       "    </tr>\n",
       "    <tr>\n",
       "      <th>banco-safra</th>\n",
       "      <td>1</td>\n",
       "    </tr>\n",
       "    <tr>\n",
       "      <th rowspan=\"4\" valign=\"top\">jd-paulista</th>\n",
       "      <th>banco-bradesco</th>\n",
       "      <td>2</td>\n",
       "    </tr>\n",
       "    <tr>\n",
       "      <th>banco-do-brasil</th>\n",
       "      <td>6</td>\n",
       "    </tr>\n",
       "    <tr>\n",
       "      <th>banco-santander</th>\n",
       "      <td>1</td>\n",
       "    </tr>\n",
       "    <tr>\n",
       "      <th>omni</th>\n",
       "      <td>1</td>\n",
       "    </tr>\n",
       "    <tr>\n",
       "      <th rowspan=\"6\" valign=\"top\">jd-paulistano</th>\n",
       "      <th>banco-bradesco</th>\n",
       "      <td>2</td>\n",
       "    </tr>\n",
       "    <tr>\n",
       "      <th>banco-do-brasil</th>\n",
       "      <td>6</td>\n",
       "    </tr>\n",
       "    <tr>\n",
       "      <th>banco-santander</th>\n",
       "      <td>3</td>\n",
       "    </tr>\n",
       "    <tr>\n",
       "      <th>cotacao</th>\n",
       "      <td>1</td>\n",
       "    </tr>\n",
       "    <tr>\n",
       "      <th>distribuidora-intercap</th>\n",
       "      <td>1</td>\n",
       "    </tr>\n",
       "    <tr>\n",
       "      <th>lla</th>\n",
       "      <td>1</td>\n",
       "    </tr>\n",
       "    <tr>\n",
       "      <th rowspan=\"2\" valign=\"top\">jd-planalto</th>\n",
       "      <th>banco-do-brasil</th>\n",
       "      <td>1</td>\n",
       "    </tr>\n",
       "    <tr>\n",
       "      <th>itau-unibanco</th>\n",
       "      <td>1</td>\n",
       "    </tr>\n",
       "    <tr>\n",
       "      <th>jd-santo-elias</th>\n",
       "      <th>itau-unibanco</th>\n",
       "      <td>2</td>\n",
       "    </tr>\n",
       "    <tr>\n",
       "      <th rowspan=\"2\" valign=\"top\">pq-da-mooca</th>\n",
       "      <th>banco-do-brasil</th>\n",
       "      <td>1</td>\n",
       "    </tr>\n",
       "    <tr>\n",
       "      <th>banco-santander</th>\n",
       "      <td>1</td>\n",
       "    </tr>\n",
       "    <tr>\n",
       "      <th rowspan=\"2\" valign=\"top\">sta-efigenia</th>\n",
       "      <th>banco-do-brasil</th>\n",
       "      <td>1</td>\n",
       "    </tr>\n",
       "    <tr>\n",
       "      <th>itau-unibanco</th>\n",
       "      <td>1</td>\n",
       "    </tr>\n",
       "    <tr>\n",
       "      <th rowspan=\"5\" valign=\"top\">sto-amaro</th>\n",
       "      <th>aymore</th>\n",
       "      <td>1</td>\n",
       "    </tr>\n",
       "    <tr>\n",
       "      <th>banco-do-brasil</th>\n",
       "      <td>7</td>\n",
       "    </tr>\n",
       "    <tr>\n",
       "      <th>banco-safra</th>\n",
       "      <td>1</td>\n",
       "    </tr>\n",
       "    <tr>\n",
       "      <th>caixa-economica-federal</th>\n",
       "      <td>1</td>\n",
       "    </tr>\n",
       "    <tr>\n",
       "      <th>itau-unibanco</th>\n",
       "      <td>1</td>\n",
       "    </tr>\n",
       "  </tbody>\n",
       "</table>\n",
       "</div>"
      ],
      "text/plain": [
       "                                                       AGENCIA\n",
       "CIDADE    BAIRRO           BANCO                              \n",
       "sao-paulo b-vista          banco-do-brasil                   5\n",
       "                           itau-unibanco                     2\n",
       "          centro           levycam-corretora                 1\n",
       "          cerqueira-cesar  banco-citibank                    2\n",
       "          ch-santo-antonio deutsche-bank-corretora           1\n",
       "                           itau-unibanco                     1\n",
       "                           societe-generale-corretora        1\n",
       "          itaim-bibi       novo-mundo-corretora              1\n",
       "                           planner-corretora                 1\n",
       "          jardim-paulista  consegtur-corretora               1\n",
       "          jd-america       banco-do-brasil                   5\n",
       "                           banco-santander                   1\n",
       "                           caixa-economica-federal           1\n",
       "                           itau-unibanco                     1\n",
       "          jd-aricanduva    banco-bradesco                    1\n",
       "                           banco-do-brasil                   2\n",
       "                           banco-santander                   2\n",
       "          jd-leonor        banco-do-brasil                   1\n",
       "                           banco-safra                       1\n",
       "          jd-paulista      banco-bradesco                    2\n",
       "                           banco-do-brasil                   6\n",
       "                           banco-santander                   1\n",
       "                           omni                              1\n",
       "          jd-paulistano    banco-bradesco                    2\n",
       "                           banco-do-brasil                   6\n",
       "                           banco-santander                   3\n",
       "                           cotacao                           1\n",
       "                           distribuidora-intercap            1\n",
       "                           lla                               1\n",
       "          jd-planalto      banco-do-brasil                   1\n",
       "                           itau-unibanco                     1\n",
       "          jd-santo-elias   itau-unibanco                     2\n",
       "          pq-da-mooca      banco-do-brasil                   1\n",
       "                           banco-santander                   1\n",
       "          sta-efigenia     banco-do-brasil                   1\n",
       "                           itau-unibanco                     1\n",
       "          sto-amaro        aymore                            1\n",
       "                           banco-do-brasil                   7\n",
       "                           banco-safra                       1\n",
       "                           caixa-economica-federal           1\n",
       "                           itau-unibanco                     1"
      ]
     },
     "execution_count": 19,
     "metadata": {},
     "output_type": "execute_result"
    }
   ],
   "source": [
    "dupli_sp.groupby(['CIDADE', 'BAIRRO', 'BANCO']).count()"
   ]
  },
  {
   "cell_type": "code",
   "execution_count": 20,
   "id": "04d1edfb-5050-4ef2-9993-48e9ea3e418f",
   "metadata": {},
   "outputs": [],
   "source": [
    "df_sem_duplicatas = df_sp.drop_duplicates()"
   ]
  },
  {
   "cell_type": "code",
   "execution_count": 21,
   "id": "13c049e9-9775-4b46-bf39-ff6d241cdeb5",
   "metadata": {},
   "outputs": [
    {
     "data": {
      "text/plain": [
       "(2724, 7)"
      ]
     },
     "execution_count": 21,
     "metadata": {},
     "output_type": "execute_result"
    }
   ],
   "source": [
    "df_sem_duplicatas.shape"
   ]
  },
  {
   "cell_type": "code",
   "execution_count": null,
   "id": "21706c40-b503-4986-82a1-63ed50046ba9",
   "metadata": {},
   "outputs": [],
   "source": []
  }
 ],
 "metadata": {
  "kernelspec": {
   "display_name": "Python 3 (ipykernel)",
   "language": "python",
   "name": "python3"
  },
  "language_info": {
   "codemirror_mode": {
    "name": "ipython",
    "version": 3
   },
   "file_extension": ".py",
   "mimetype": "text/x-python",
   "name": "python",
   "nbconvert_exporter": "python",
   "pygments_lexer": "ipython3",
   "version": "3.12.2"
  }
 },
 "nbformat": 4,
 "nbformat_minor": 5
}
